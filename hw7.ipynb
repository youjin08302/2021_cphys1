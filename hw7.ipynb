{
 "cells": [
  {
   "cell_type": "code",
   "execution_count": 1,
   "metadata": {},
   "outputs": [],
   "source": [
    "%matplotlib inline\n",
    "import matplotlib.pyplot as plt\n",
    "import numpy as np"
   ]
  },
  {
   "cell_type": "markdown",
   "metadata": {},
   "source": [
    "## Pauli Matrices"
   ]
  },
  {
   "cell_type": "markdown",
   "metadata": {},
   "source": [
    "파울리 행렬의 아이겐밸류와 아이겐벡터를 구하시오.\n",
    "\n",
    "$$ s_x = \\begin{pmatrix} 0 & 1 \\\\ 1 & 0 \\end{pmatrix}, \\quad\n",
    "s_y = \\begin{pmatrix} 0 & -j \\\\ j & 0 \\end{pmatrix}, \\quad\n",
    "s_z  = \\begin{pmatrix} 1 & 0 \\\\ 0 & -1 \\end{pmatrix}. $$"
   ]
  },
  {
   "cell_type": "code",
   "execution_count": 12,
   "metadata": {},
   "outputs": [
    {
     "data": {
      "text/plain": [
       "((array([ 1., -1.]),\n",
       "  array([[ 0.70710678, -0.70710678],\n",
       "         [ 0.70710678,  0.70710678]])),\n",
       " (array([ 1.+0.j, -1.+0.j]),\n",
       "  array([[-0.        -0.70710678j,  0.70710678+0.j        ],\n",
       "         [ 0.70710678+0.j        ,  0.        -0.70710678j]])),\n",
       " (array([ 1., -1.]),\n",
       "  array([[1., 0.],\n",
       "         [0., 1.]])))"
      ]
     },
     "execution_count": 12,
     "metadata": {},
     "output_type": "execute_result"
    }
   ],
   "source": [
    "sx = np.array([[0,1],\n",
    "              [1,0]])\n",
    "sy = np.array([[0,-1j],\n",
    "               [1j,0]])\n",
    "sz = np.array([[1,0],\n",
    "               [0,-1]])\n",
    "\n",
    "np.linalg.eig(sx), np.linalg.eig(sy), np.linalg.eig(sz)"
   ]
  },
  {
   "cell_type": "markdown",
   "metadata": {},
   "source": [
    "## Normal Modes"
   ]
  },
  {
   "cell_type": "markdown",
   "metadata": {},
   "source": [
    "(고전역학 by Thornton & Marion 챕터 12.2 및 예제 12.3 참조) 용수철 상수가 $k$인 용수철에 연결된 두 개의 물체의 노말 모드를 구해보자. 두 개의 물체의 운동방정식은 다음으로 주어진다.$$ -m w^2 x_1 = -2kx_1 +k x_2, \\\\\n",
    "-m w^2 x_2 = k x_1 - 2 k x_2.$$eigenfrequencies $w$는 다음의 행렬식을 통해 구할 수 있다.$$ \\frac{k}{m w^2} \\begin{pmatrix} 2 & -1 \\\\ -1 & 2 \\end{pmatrix} \n",
    "\\begin{pmatrix} x_1 \\\\ x_2 \\end{pmatrix}=\n",
    "\\lambda \\begin{pmatrix} x_1 \\\\ x_2 \\end{pmatrix} $$"
   ]
  },
  {
   "cell_type": "code",
   "execution_count": 13,
   "metadata": {},
   "outputs": [
    {
     "data": {
      "text/plain": [
       "(array([3., 1.]),\n",
       " array([[ 0.70710678,  0.70710678],\n",
       "        [-0.70710678,  0.70710678]]))"
      ]
     },
     "execution_count": 13,
     "metadata": {},
     "output_type": "execute_result"
    }
   ],
   "source": [
    "m = np.array([[2,-1],\n",
    "              [-1,2]])\n",
    "\n",
    "np.linalg.eig(m)"
   ]
  },
  {
   "cell_type": "markdown",
   "metadata": {},
   "source": [
    "따라서 eigenfrequencies는$$ w_1 = \\sqrt{\\frac{k}{m}}, \\quad w_2 = \\sqrt{\\frac{3k}{m}}. $$\n",
    "\n",
    "위에서 구한 아이겐벡터와 아이겐밸류의 의미를 설명하여라."
   ]
  },
  {
   "cell_type": "markdown",
   "metadata": {},
   "source": [
    "sol) 위에서 구한 답을 통해 eigenvalue, 즉 $\\lambda$ 값이 3, 1인 것을 확인할 수 있다.\n",
    "따라서 eigenfrequencies 식을 일반적으로 $ \\omega=\\sqrt{\\frac{\\lambda k}{m}}$ 으로 써줄 수 있다. (위 식에서는 이미 eigenvalue가 대입된 형태이다.) 이후 $\\lambda$값을 대입해 $x_1$과 $x_2$의 비율(eigenvector)을 계산하면 물체의 노말모드 운동을 확인할 수 있다.\n",
    "\n",
    "i) $\\lambda=1$\n",
    "\n",
    "$x_1$:$x_2$=$\\sqrt{\\frac{1}{2}}$:$\\sqrt{\\frac{1}{2}}$\n",
    "\n",
    "$x_1$와 $x_2$의 값과 부호가 같음을 통해 두 개의 물체가 같은 크기와 같은 방향으로 운동한다는 것을 알 수 있다.\n",
    "\n",
    "\n",
    "ii) $\\lambda=3$\n",
    "\n",
    "$x_1$:$x_2$=$\\sqrt{\\frac{1}{2}}$: -$\\sqrt{\\frac{1}{2}}$\n",
    "\n",
    "$x_1$와 $x_2$가 값은 같지만 부호가 다름을 통해 두 개의 물체가 같은 크기와 반대 방향으로 운동한다는 것을 알 수 있다.\n",
    "\n",
    "따라서 $w_1$는 입자 진동이 역위상이고, 입자속도가 같으나 반대방향인 것을 알 수 있고, $w_2$는 입자 진동이 같은 위상이고, 입자속도와 방향이 모두 같은 것을 알 수 있다.\n",
    "\n",
    "결론적으로 eigenvector는 두 개의 물체의 운동의 크기와 방향을 나타내고, eigenvalue는 eigenfrequencies를 결정한다는 것을 확인할 수 있다."
   ]
  }
 ],
 "metadata": {
  "kernelspec": {
   "display_name": "Python 3",
   "language": "python",
   "name": "python3"
  },
  "language_info": {
   "codemirror_mode": {
    "name": "ipython",
    "version": 3
   },
   "file_extension": ".py",
   "mimetype": "text/x-python",
   "name": "python",
   "nbconvert_exporter": "python",
   "pygments_lexer": "ipython3",
   "version": "3.8.5"
  }
 },
 "nbformat": 4,
 "nbformat_minor": 4
}
